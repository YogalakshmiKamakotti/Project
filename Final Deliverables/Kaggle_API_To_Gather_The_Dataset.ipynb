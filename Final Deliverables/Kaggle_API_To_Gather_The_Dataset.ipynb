{
  "nbformat": 4,
  "nbformat_minor": 0,
  "metadata": {
    "colab": {
      "provenance": []
    },
    "kernelspec": {
      "name": "python3",
      "display_name": "Python 3"
    },
    "language_info": {
      "name": "python"
    }
  },
  "cells": [
    {
      "cell_type": "code",
      "execution_count": null,
      "metadata": {
        "id": "DMHqPmzPIgXK"
      },
      "outputs": [],
      "source": [
        "!pip install -q kaggle"
      ]
    },
    {
      "cell_type": "code",
      "source": [
        "!mkdir ~/.kaggle # creating a kaggle directory"
      ],
      "metadata": {
        "id": "-2I5RSeaIzBu"
      },
      "execution_count": null,
      "outputs": []
    },
    {
      "cell_type": "code",
      "source": [
        "!cp kaggle.json ~/.kaggle/ # copying json file to folder"
      ],
      "metadata": {
        "id": "JwwtomcYJAsi"
      },
      "execution_count": null,
      "outputs": []
    },
    {
      "cell_type": "code",
      "source": [
        "!kaggle datasets download -d yogalakshmik/global-superstorecsv"
      ],
      "metadata": {
        "colab": {
          "base_uri": "https://localhost:8080/"
        },
        "id": "bx3FBreRJPnU",
        "outputId": "e4b31208-f8ba-4447-93bd-4e7fe11511f3"
      },
      "execution_count": null,
      "outputs": [
        {
          "output_type": "stream",
          "name": "stdout",
          "text": [
            "Warning: Your Kaggle API key is readable by other users on this system! To fix this, you can run 'chmod 600 /root/.kaggle/kaggle.json'\n",
            "Downloading global-superstorecsv.zip to /content\n",
            "  0% 0.00/3.68M [00:00<?, ?B/s]\n",
            "100% 3.68M/3.68M [00:00<00:00, 227MB/s]\n"
          ]
        }
      ]
    },
    {
      "cell_type": "code",
      "source": [
        "!unzip /content/global-superstorecsv.zip"
      ],
      "metadata": {
        "id": "QPUxJ8LiKjDQ",
        "colab": {
          "base_uri": "https://localhost:8080/"
        },
        "outputId": "7b47259e-977f-4ee5-cbb8-577a9d5ade51"
      },
      "execution_count": null,
      "outputs": [
        {
          "output_type": "stream",
          "name": "stdout",
          "text": [
            "Archive:  /content/global-superstorecsv.zip\n",
            "  inflating: Global_Superstore2.csv  \n"
          ]
        }
      ]
    }
  ]
}